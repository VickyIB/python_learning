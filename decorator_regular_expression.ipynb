{
 "cells": [
  {
   "cell_type": "code",
   "execution_count": 1,
   "metadata": {},
   "outputs": [
    {
     "name": "stdout",
     "output_type": "stream",
     "text": [
      "Something is happening before the function is called.\n",
      "Hello!\n",
      "Something is happening after the function is called.\n"
     ]
    }
   ],
   "source": [
    "\"\"\"\n",
    "Decorators in Python\n",
    "Decorators are a powerful feature in Python that allows you to modify the behavior of functions or classes.\n",
    "They are commonly used for logging, access control, memoization, and more.\n",
    "\n",
    "Basic Decorator Example\n",
    "A decorator is essentially a function that takes another function and extends its behavior without explicitly modifying it.\n",
    "\"\"\"\n",
    "def my_decorator(func):\n",
    "    def wrapper():\n",
    "        print(\"Something is happening before the function is called.\")\n",
    "        func()\n",
    "        print(\"Something is happening after the function is called.\")\n",
    "    return wrapper\n",
    "\n",
    "@my_decorator\n",
    "def say_hello():\n",
    "    print(\"Hello!\")\n",
    "\n",
    "say_hello()"
   ]
  },
  {
   "cell_type": "code",
   "execution_count": 1,
   "metadata": {},
   "outputs": [
    {
     "name": "stdout",
     "output_type": "stream",
     "text": [
      "Hello, Vicky!\n",
      "Hello, Vicky!\n",
      "Hello, Vicky!\n"
     ]
    }
   ],
   "source": [
    "\"\"\"\n",
    "Decorator with Arguments\n",
    "To make a decorator that accepts arguments, you need to add another level of function.\n",
    "\"\"\"\n",
    "def repeat(num_times):\n",
    "    def decorator_repeat(func):\n",
    "        def wrapper(*args, **kwargs):\n",
    "            for _ in range(num_times):\n",
    "                func(*args, **kwargs)\n",
    "        return wrapper\n",
    "    return decorator_repeat\n",
    "\n",
    "@repeat(3)\n",
    "def greet(name):\n",
    "    print(f\"Hello, {name}!\")\n",
    "\n",
    "greet(\"Vicky\")"
   ]
  },
  {
   "cell_type": "code",
   "execution_count": 6,
   "metadata": {},
   "outputs": [
    {
     "name": "stdout",
     "output_type": "stream",
     "text": [
      "['rain', 'rain', 'rain']\n"
     ]
    }
   ],
   "source": [
    "\"\"\"\n",
    "Regular Expressions in Python\n",
    "Regular expressions (regex) are a tool for matching patterns in text. Python provides the re module to work with regular expressions.\n",
    "\n",
    "Basic Regular Expression Example\n",
    "Let's start with a simple example to find all occurrences of a word in a string.\n",
    "\"\"\"\n",
    "import re\n",
    "\n",
    "text = \"The rain in Spain stays mainly in the plain. rain rain come again\"\n",
    "pattern = r\"\\brain\\b\"\n",
    "\n",
    "matches = re.findall(pattern, text)\n",
    "print(matches)"
   ]
  },
  {
   "cell_type": "code",
   "execution_count": 7,
   "metadata": {},
   "outputs": [
    {
     "name": "stdout",
     "output_type": "stream",
     "text": [
      "123-456-7890\n",
      "123\n",
      "456\n",
      "7890\n"
     ]
    }
   ],
   "source": [
    "\"\"\"\n",
    "Using Groups\n",
    "You can use groups to capture parts of the match.\n",
    "\"\"\"\n",
    "text = \"My phone number is 123-456-7890.\"\n",
    "pattern = r\"(\\d{3})-(\\d{3})-(\\d{4})\"\n",
    "\n",
    "match = re.search(pattern, text)\n",
    "if match:\n",
    "    print(match.group())    # Entire match\n",
    "    print(match.group(1))   # First group\n",
    "    print(match.group(2))   # Second group\n",
    "    print(match.group(3))   # Third group"
   ]
  },
  {
   "cell_type": "code",
   "execution_count": 8,
   "metadata": {},
   "outputs": [
    {
     "name": "stdout",
     "output_type": "stream",
     "text": [
      "My phone number is (123) 456-7890.\n"
     ]
    }
   ],
   "source": [
    "\"\"\"\n",
    "Substitutions with Regex\n",
    "You can also substitute parts of the string using re.sub.\n",
    "\"\"\"\n",
    "text = \"My phone number is 123-456-7890.\"\n",
    "pattern = r\"(\\d{3})-(\\d{3})-(\\d{4})\"\n",
    "replacement = r\"(\\1) \\2-\\3\"\n",
    "\n",
    "new_text = re.sub(pattern, replacement, text)\n",
    "print(new_text)"
   ]
  },
  {
   "cell_type": "code",
   "execution_count": 9,
   "metadata": {},
   "outputs": [
    {
     "name": "stdout",
     "output_type": "stream",
     "text": [
      "Function is_valid_email executed in 0.0004558563232421875 seconds\n",
      "test@example.com: True\n",
      "Function is_valid_email executed in 1.2874603271484375e-05 seconds\n",
      "invalid-email: False\n",
      "Function is_valid_email executed in 8.58306884765625e-06 seconds\n",
      "another@test.co: True\n",
      "Function is_valid_email executed in 6.9141387939453125e-06 seconds\n",
      "bad@domain,com: False\n"
     ]
    }
   ],
   "source": [
    "\"\"\"\n",
    "Putting It All Together\n",
    "Let's create a practical example using both decorators and regular expressions. \n",
    "Suppose you want to create a decorator that logs the execution time of functions and a function that validates email addresses using regex.\n",
    "\n",
    "Execution Time Logger Decorator\n",
    "\"\"\"\n",
    "import time\n",
    "\n",
    "def execution_time_logger(func):\n",
    "    def wrapper(*args, **kwargs):\n",
    "        start_time = time.time()\n",
    "        result = func(*args, **kwargs)\n",
    "        end_time = time.time()\n",
    "        print(f\"Function {func.__name__} executed in {end_time - start_time} seconds\")\n",
    "        return result\n",
    "    return wrapper\n",
    "\n",
    "@execution_time_logger\n",
    "def is_valid_email(email):\n",
    "    pattern = r\"^[a-zA-Z0-9_.+-]+@[a-zA-Z0-9-]+\\.[a-zA-Z0-9-.]+$\"\n",
    "    if re.match(pattern, email):\n",
    "        return True\n",
    "    return False\n",
    "\n",
    "# Test the function\n",
    "emails = [\"test@example.com\", \"invalid-email\", \"another@test.co\", \"bad@domain,com\"]\n",
    "\n",
    "for email in emails:\n",
    "    print(f\"{email}: {is_valid_email(email)}\")\n",
    "    \n",
    "\"\"\"\n",
    "In this example, the execution_time_logger decorator measures and logs the execution time of the is_valid_email function. \n",
    "The is_valid_email function uses a regular expression to validate email addresses.\n",
    "\n",
    "These examples demonstrate the power and flexibility of decorators and regular expressions in \n",
    "Python, allowing you to extend functionality and perform complex text processing tasks efficiently.\n",
    "\"\"\""
   ]
  }
 ],
 "metadata": {
  "kernelspec": {
   "display_name": "Python 3",
   "language": "python",
   "name": "python3"
  },
  "language_info": {
   "codemirror_mode": {
    "name": "ipython",
    "version": 3
   },
   "file_extension": ".py",
   "mimetype": "text/x-python",
   "name": "python",
   "nbconvert_exporter": "python",
   "pygments_lexer": "ipython3",
   "version": "3.10.12"
  }
 },
 "nbformat": 4,
 "nbformat_minor": 2
}
